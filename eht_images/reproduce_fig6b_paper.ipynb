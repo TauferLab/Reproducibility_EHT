{
 "cells": [
  {
   "cell_type": "code",
   "execution_count": null,
   "id": "f10788ae-cfa4-4afc-b403-b469c0799957",
   "metadata": {},
   "outputs": [],
   "source": [
    "import matplotlib.pyplot as plt\n",
    "from mpl_toolkits.axes_grid1 import ImageGrid\n",
    "import numpy as np\n",
    "import os\n",
    "from PIL import Image\n",
    "from pdf2image import convert_from_path\n",
    "import shutil"
   ]
  },
  {
   "cell_type": "code",
   "execution_count": null,
   "id": "612b81ad-540a-47fb-bbd0-e5c1e2cc03f5",
   "metadata": {},
   "outputs": [],
   "source": [
    "IMG_DIR = os.getcwd()\n",
    "DIFMAP = f\"{IMG_DIR}/difmap_images\"\n",
    "EHT_IMAGING = f\"{IMG_DIR}/eht-imaging_images\"\n",
    "SMILI = f\"{IMG_DIR}/smili_images\"\n",
    "\n",
    "# Helps with renaming convention\n",
    "d_prefix = f\"difmap_\"\n",
    "e_prefix = f\"eht-imaging_\"\n",
    "s_prefix = f\"smili_\"\n",
    "RENAMED = False\n",
    "MOVED = False"
   ]
  },
  {
   "cell_type": "code",
   "execution_count": null,
   "id": "2bc9cded-5d99-4f9c-baad-bf64b365fe9a",
   "metadata": {},
   "outputs": [],
   "source": [
    "# Reshapes each image and adds white padding around the border\n",
    "def img_reshape(img):\n",
    "    img = Image.open(img).convert('RGB')\n",
    "    img = img.resize((321, 275))\n",
    "    img = np.asarray(img)\n",
    "    img = np.pad(img, ((5,5), (5,5), (0,0)), mode='constant', constant_values=255)\n",
    "    return img"
   ]
  },
  {
   "cell_type": "code",
   "execution_count": null,
   "id": "945c8658-9f23-4610-a7bd-990a14a40caf",
   "metadata": {},
   "outputs": [],
   "source": [
    "# Creates an image grid out of the image array\n",
    "def image_grid(array, ncols=4):\n",
    "    index, height, width, channels = array.shape\n",
    "    nrows = 3\n",
    "    \n",
    "    img_grid = (array.reshape(nrows, ncols, height, width, channels)\n",
    "              .swapaxes(1,2)\n",
    "              .reshape(height*nrows, width*ncols, channels))\n",
    "        \n",
    "    return img_grid"
   ]
  },
  {
   "cell_type": "code",
   "execution_count": null,
   "id": "6b20a92d-0ec9-421b-a47c-ca0635495861",
   "metadata": {},
   "outputs": [],
   "source": [
    "# Renames images to appropriate names\n",
    "if RENAMED == False:\n",
    "    for f in os.listdir(DIFMAP):\n",
    "        if f.endswith('.pdf'):\n",
    "            new = DIFMAP+'/'+d_prefix+f\n",
    "            os.rename(DIFMAP+'/'+f, new)\n",
    "            shutil.move(new, new[-118:])\n",
    "            # print(new[-118:])\n",
    "\n",
    "    for f in os.listdir(EHT_IMAGING):\n",
    "        if f.endswith('.pdf'):\n",
    "            new = EHT_IMAGING+'/'+e_prefix+f\n",
    "            os.rename(EHT_IMAGING+'/'+f, new)\n",
    "            shutil.move(new, new[-42:])\n",
    "            # print(len(e_prefix+f))\n",
    "\n",
    "    for f in os.listdir(SMILI):\n",
    "        if f.endswith('.pdf'):\n",
    "            new = SMILI+'/'+s_prefix+f\n",
    "            os.rename(SMILI+'/'+f, new)\n",
    "            shutil.move(new, new[-39:])\n",
    "            # print(len(s_prefix+f))\n",
    "    RENAMED = True\n",
    "\n",
    "# Convert .pdf images into .jpg images\n",
    "pdfs = [f for f in os.listdir(IMG_DIR) if f.endswith('.pdf')]\n",
    "\n",
    "for i in pdfs:\n",
    "    image = convert_from_path(f'{IMG_DIR}/{i}')\n",
    "    image[0].save(f'{IMG_DIR}/{i[:-4]}.png', 'PNG')\n",
    "    \n",
    "# Finds all pngs and sorts them in alpha-numerical order - helps with plotting later\n",
    "pngs = [f for f in os.listdir(IMG_DIR) if f.endswith('.png')]\n",
    "\n",
    "pngs = sorted(pngs)\n",
    "\n",
    "# Removes the final image grid if rerunning this cell again\n",
    "if 'final_comparison.png' in pngs:\n",
    "    pngs.remove('final_comparison.png')\n",
    "    \n",
    "    \n",
    "# Creates an image array of all the new png images\n",
    "img_arr = []\n",
    "\n",
    "for image in pngs:\n",
    "    img_arr.append(img_reshape(image))\n",
    "\n",
    "img_arr = np.array(img_arr)"
   ]
  },
  {
   "cell_type": "code",
   "execution_count": null,
   "id": "9f5e2f30-2414-47ba-8cb2-5045ac70ee5e",
   "metadata": {},
   "outputs": [],
   "source": [
    "result = image_grid(img_arr)\n",
    "fig = plt.figure(figsize=(20., 30.), )\n",
    "plt.axis('off')\n",
    "\n",
    "plt.text(-30, 180, \"DIFMAP\", fontsize=23, rotation=90)\n",
    "plt.text(-30, 500, \"eht-imaging\", fontsize=23, rotation=90)\n",
    "plt.text(-30, 740, \"SMILI\", fontsize=23, rotation=90)\n",
    "\n",
    "plt.text(95, -5, \"April 5\", fontsize=23)\n",
    "plt.text(425, -5, \"April 6\", fontsize=23)\n",
    "plt.text(745, -5, \"April 10\", fontsize=23)\n",
    "plt.text(1085, -5, \"April 11\", fontsize=23)\n",
    "\n",
    "plt.imshow(result)\n",
    "plt.savefig(\"final_comparison.png\", bbox_inches='tight')"
   ]
  },
  {
   "cell_type": "code",
   "execution_count": null,
   "id": "d6b3a7d1-2dcc-4810-9481-02e31918c5b9",
   "metadata": {},
   "outputs": [],
   "source": [
    "if MOVED == False:\n",
    "    # Moves all pdfs and all new pngs back to original folder\n",
    "    for f in os.listdir(IMG_DIR):\n",
    "        if f.endswith('.pdf') or f.endswith('.png'):\n",
    "            if d_prefix in f:\n",
    "                shutil.move(f, DIFMAP+'/'+f)\n",
    "            if e_prefix in f:\n",
    "                shutil.move(f, EHT_IMAGING+'/'+f)\n",
    "            if s_prefix in f:\n",
    "                shutil.move(f, SMILI+'/'+f)\n",
    "    MOVED = True\n"
   ]
  },
  {
   "cell_type": "code",
   "execution_count": null,
   "id": "093a991e-7cd9-47cb-aa4d-ee3baf5a632f",
   "metadata": {},
   "outputs": [],
   "source": []
  },
  {
   "cell_type": "code",
   "execution_count": null,
   "id": "23d94a94-63e2-46b6-9c9c-cd629d1ae825",
   "metadata": {},
   "outputs": [],
   "source": []
  }
 ],
 "metadata": {
  "kernelspec": {
   "display_name": "Python 3 (ipykernel)",
   "language": "python",
   "name": "python3"
  },
  "language_info": {
   "codemirror_mode": {
    "name": "ipython",
    "version": 3
   },
   "file_extension": ".py",
   "mimetype": "text/x-python",
   "name": "python",
   "nbconvert_exporter": "python",
   "pygments_lexer": "ipython3",
   "version": "3.7.11"
  }
 },
 "nbformat": 4,
 "nbformat_minor": 5
}
